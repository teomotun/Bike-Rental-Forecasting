{
 "cells": [
  {
   "cell_type": "code",
   "execution_count": 46,
   "metadata": {},
   "outputs": [],
   "source": [
    "import re\n",
    "import numpy as np\n",
    "import pandas as pd\n",
    "from collections import Counter\n",
    "import matplotlib.pyplot as plt"
   ]
  },
  {
   "cell_type": "code",
   "execution_count": 2,
   "metadata": {
    "code_folding": []
   },
   "outputs": [
    {
     "data": {
      "text/plain": [
       "1910"
      ]
     },
     "execution_count": 2,
     "metadata": {},
     "output_type": "execute_result"
    }
   ],
   "source": [
    "def number_of_lines():\n",
    "    fhandle = open('/cxldata/datasets/project/mbox-short.txt')\n",
    "    inp = fhandle.read()\n",
    "    fhandle.close()\n",
    "    count=len(inp.splitlines())\n",
    "    return count\n",
    "number_of_lines()"
   ]
  },
  {
   "cell_type": "code",
   "execution_count": 3,
   "metadata": {},
   "outputs": [
    {
     "data": {
      "text/plain": [
       "27"
      ]
     },
     "execution_count": 3,
     "metadata": {},
     "output_type": "execute_result"
    }
   ],
   "source": [
    "def count_number_of_lines():\n",
    "    count = 0\n",
    "    with open('/cxldata/datasets/project/mbox-short.txt') as fhandle:\n",
    "        for line in fhandle:\n",
    "            line = line.rstrip() # Remove new line characters from right\n",
    "            if line.startswith('Subject:'):\n",
    "                count += 1\n",
    "    return count\n",
    "count_number_of_lines()"
   ]
  },
  {
   "cell_type": "code",
   "execution_count": 4,
   "metadata": {},
   "outputs": [
    {
     "data": {
      "text/plain": [
       "0.7507185185185187"
      ]
     },
     "execution_count": 4,
     "metadata": {},
     "output_type": "execute_result"
    }
   ],
   "source": [
    "def average_spam_confidence():\n",
    "    x = []\n",
    "    with open('/cxldata/datasets/project/mbox-short.txt') as fhandle:\n",
    "        for line in fhandle:\n",
    "            line = line.rstrip() # Remove new line characters from right\n",
    "            if line.startswith('X-DSPAM-Confidence:'):\n",
    "                x.append(float(re.findall('[0-9].+',line)[0]))\n",
    "    return sum(x)/len(x)\n",
    "\n",
    "average_spam_confidence()"
   ]
  },
  {
   "cell_type": "code",
   "execution_count": 35,
   "metadata": {},
   "outputs": [
    {
     "data": {
      "text/plain": [
       "{'Sat': 1, 'Fri': 20, 'Thu': 6}"
      ]
     },
     "execution_count": 35,
     "metadata": {},
     "output_type": "execute_result"
    }
   ],
   "source": [
    "def find_email_sent_days():\n",
    "    x = []\n",
    "    with open('/cxldata/datasets/project/mbox-short.txt') as fhandle:\n",
    "        for line in fhandle:\n",
    "            line = line.rstrip() # Remove new line characters from right\n",
    "            if line.startswith('From '):\n",
    "                atpos = line.find('@')\n",
    "                sppos = line.find(' ', atpos)\n",
    "                newpos = line.find(' ', sppos+1)\n",
    "                x.append(line[sppos+1:newpos])\n",
    "    day = {}\n",
    "    for i in x:\n",
    "        day[i]=day.get(i,0)+1\n",
    "    return day\n",
    "\n",
    "find_email_sent_days()"
   ]
  },
  {
   "cell_type": "code",
   "execution_count": 59,
   "metadata": {},
   "outputs": [
    {
     "data": {
      "text/plain": [
       "{'stephen.marquard@uct.ac.za': 4,\n",
       " 'louis@media.berkeley.edu': 6,\n",
       " 'zqian@umich.edu': 8,\n",
       " 'rjlowe@iupui.edu': 4,\n",
       " 'cwen@iupui.edu': 10,\n",
       " 'gsilver@umich.edu': 6,\n",
       " 'wagnermr@iupui.edu': 2,\n",
       " 'antranig@caret.cam.ac.uk': 2,\n",
       " 'gopal.ramasammycook@gmail.com': 2,\n",
       " 'david.horwitz@uct.ac.za': 8,\n",
       " 'ray@media.berkeley.edu': 2}"
      ]
     },
     "execution_count": 59,
     "metadata": {},
     "output_type": "execute_result"
    }
   ],
   "source": [
    "def count_message_from_email():\n",
    "    x = []\n",
    "    with open('/cxldata/datasets/project/mbox-short.txt') as fhandle:\n",
    "        for line in fhandle:\n",
    "            line = line.rstrip() # Remove new line characters from right\n",
    "            if line.startswith('From'):\n",
    "                x.append(re.findall('.* (\\S+@\\S+)',line)[0])\n",
    "    email = {}\n",
    "    for i in x:\n",
    "        email[i]=email.get(i,0)+1\n",
    "    return email\n",
    "count_message_from_email()"
   ]
  },
  {
   "cell_type": "code",
   "execution_count": 64,
   "metadata": {},
   "outputs": [
    {
     "data": {
      "text/plain": [
       "{'uct.ac.za': 12,\n",
       " 'media.berkeley.edu': 8,\n",
       " 'umich.edu': 14,\n",
       " 'iupui.edu': 16,\n",
       " 'caret.cam.ac.uk': 2,\n",
       " 'gmail.com': 2}"
      ]
     },
     "execution_count": 64,
     "metadata": {},
     "output_type": "execute_result"
    }
   ],
   "source": [
    "def count_message_from_domain():\n",
    "    x = []\n",
    "    with open('/cxldata/datasets/project/mbox-short.txt') as fhandle:\n",
    "        for line in fhandle:\n",
    "            line = line.rstrip() # Remove new line characters from right\n",
    "            if line.startswith('From'):\n",
    "                x.append(re.findall('.* \\S+@(\\S+)',line)[0])\n",
    "    email = {}\n",
    "    for i in x:\n",
    "        email[i]=email.get(i,0)+1\n",
    "    return email\n",
    "\n",
    "count_message_from_domain()"
   ]
  },
  {
   "cell_type": "code",
   "execution_count": null,
   "metadata": {},
   "outputs": [],
   "source": []
  }
 ],
 "metadata": {
  "kernelspec": {
   "display_name": "Python 3",
   "language": "python",
   "name": "python3"
  },
  "language_info": {
   "codemirror_mode": {
    "name": "ipython",
    "version": 3
   },
   "file_extension": ".py",
   "mimetype": "text/x-python",
   "name": "python",
   "nbconvert_exporter": "python",
   "pygments_lexer": "ipython3",
   "version": "3.6.8"
  },
  "toc": {
   "base_numbering": 1,
   "nav_menu": {},
   "number_sections": true,
   "sideBar": true,
   "skip_h1_title": false,
   "title_cell": "Table of Contents",
   "title_sidebar": "Contents",
   "toc_cell": false,
   "toc_position": {},
   "toc_section_display": true,
   "toc_window_display": false
  }
 },
 "nbformat": 4,
 "nbformat_minor": 2
}
